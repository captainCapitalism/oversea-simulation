{
 "cells": [
  {
   "cell_type": "code",
   "execution_count": 2,
   "metadata": {
    "collapsed": true
   },
   "outputs": [],
   "source": [
    "from overseen.read import read_expeditions\n",
    "from overseen.transformers import expeditions\n",
    "\n",
    "data = expeditions.transform(\n",
    "    read_expeditions()\n",
    ")\n"
   ]
  },
  {
   "cell_type": "code",
   "execution_count": 3,
   "outputs": [
    {
     "name": "stdout",
     "output_type": "stream",
     "text": [
      "0    Wysłana w głąb lądu wyprawa zaginęła. Tracisz ...\n",
      "1    Nieznane prądy zerwały okręt z kotwicy i rzuci...\n",
      "2    Głodny kraken atakuje okręt! Rzuć k8: 1-3: Okr...\n",
      "3    Okręt zaatakowany przez łodzie tubylców! Rzuć ...\n",
      "4    Ambitny oficer podburzył żołnierzy, wzniecił b...\n",
      "Name: tekst, dtype: object\n"
     ]
    }
   ],
   "source": [
    "print(data.head())"
   ],
   "metadata": {
    "collapsed": false,
    "pycharm": {
     "name": "#%%\n"
    }
   }
  }
 ],
 "metadata": {
  "kernelspec": {
   "display_name": "Python 3",
   "language": "python",
   "name": "python3"
  },
  "language_info": {
   "codemirror_mode": {
    "name": "ipython",
    "version": 2
   },
   "file_extension": ".py",
   "mimetype": "text/x-python",
   "name": "python",
   "nbconvert_exporter": "python",
   "pygments_lexer": "ipython2",
   "version": "2.7.6"
  }
 },
 "nbformat": 4,
 "nbformat_minor": 0
}